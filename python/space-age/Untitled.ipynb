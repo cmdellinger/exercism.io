{
 "cells": [
  {
   "cell_type": "markdown",
   "metadata": {},
   "source": [
    "Given an age in seconds, calculate how old someone would be on:\n",
    "\n",
    "Earth: orbital period 365.25 Earth days, or 31557600 seconds\n",
    "\n",
    "Mercury: orbital period 0.2408467 Earth years\n",
    "\n",
    "Venus: orbital period 0.61519726 Earth years\n",
    "\n",
    "Mars: orbital period 1.8808158 Earth years\n",
    "\n",
    "Jupiter: orbital period 11.862615 Earth years\n",
    "\n",
    "Saturn: orbital period 29.447498 Earth years\n",
    "\n",
    "Uranus: orbital period 84.016846 Earth years\n",
    "\n",
    "Neptune: orbital period 164.79132 Earth years\n",
    "\n",
    "So if you were told someone were 1,000,000,000 seconds old, you should be able to say that they're 31.69 Earth-years old.\n",
    "\n",
    "If you're wondering why Pluto didn't make the cut, go watch this youtube video."
   ]
  },
  {
   "cell_type": "code",
   "execution_count": 1,
   "metadata": {},
   "outputs": [
    {
     "ename": "SyntaxError",
     "evalue": "invalid syntax (<ipython-input-1-d76e22c112c9>, line 1)",
     "output_type": "error",
     "traceback": [
      "\u001b[0;36m  File \u001b[0;32m\"<ipython-input-1-d76e22c112c9>\"\u001b[0;36m, line \u001b[0;32m1\u001b[0m\n\u001b[0;31m    import\u001b[0m\n\u001b[0m          ^\u001b[0m\n\u001b[0;31mSyntaxError\u001b[0m\u001b[0;31m:\u001b[0m invalid syntax\n"
     ]
    }
   ],
   "source": [
    "import"
   ]
  },
  {
   "cell_type": "code",
   "execution_count": 4,
   "metadata": {},
   "outputs": [],
   "source": [
    "class SpaceAge:\n",
    "    earth_year_in_seconds = 31557600\n",
    "    earth_year_conversions = {\"Earth\": 1,\n",
    "                              \"Mercury\": 0.2408467,\n",
    "                              \"Venus\":   0.61519726,\n",
    "                              \"Mars\":    1.8808158,\n",
    "                              \"Jupiter\": 11.862615,\n",
    "                              \"Saturn\":  29.447498,\n",
    "                              \"Uranus\":  84.016846,\n",
    "                              \"Neptune\": 164.79132}\n",
    "\n",
    "    def __init__(self, seconds):\n",
    "        self.seconds = seconds\n",
    "\n",
    "    def conversion(self, location):\n",
    "        return round(self.seconds/self.earth_year_in_seconds \\ \n",
    "                     /self.earth_year_conversions[location], 2)\n",
    "\n",
    "    def on_earth(self):\n",
    "        return self.conversion(\"Earth\")\n",
    "\n",
    "    def on_mercury(self):\n",
    "        return self.conversion(\"Mercury\")\n",
    "\n",
    "    def on_venus(self):\n",
    "        return self.conversion(\"Venus\")\n",
    "\n",
    "    def on_mars(self):\n",
    "        return self.conversion(\"Mars\")\n",
    "\n",
    "    def on_jupiter(self):\n",
    "        return self.conversion(\"Jupiter\")\n",
    "\n",
    "    def on_saturn(self):\n",
    "        return self.conversion(\"Saturn\")\n",
    "\n",
    "    def on_uranus(self):\n",
    "        return self.conversion(\"Uranus\")\n",
    "\n",
    "    def on_neptune(self):\n",
    "        return self.conversion(\"Neptune\")\n"
   ]
  },
  {
   "cell_type": "code",
   "execution_count": 5,
   "metadata": {},
   "outputs": [
    {
     "data": {
      "text/plain": [
       "31.69"
      ]
     },
     "execution_count": 5,
     "metadata": {},
     "output_type": "execute_result"
    }
   ],
   "source": [
    "SpaceAge(1000000000).on_earth()"
   ]
  },
  {
   "cell_type": "code",
   "execution_count": 6,
   "metadata": {},
   "outputs": [
    {
     "data": {
      "text/plain": [
       "280.88"
      ]
     },
     "execution_count": 6,
     "metadata": {},
     "output_type": "execute_result"
    }
   ],
   "source": [
    "SpaceAge(2134835688).on_mercury()"
   ]
  },
  {
   "cell_type": "code",
   "execution_count": null,
   "metadata": {},
   "outputs": [],
   "source": []
  }
 ],
 "metadata": {
  "kernelspec": {
   "display_name": "Python 3",
   "language": "python",
   "name": "python3"
  },
  "language_info": {
   "codemirror_mode": {
    "name": "ipython",
    "version": 3
   },
   "file_extension": ".py",
   "mimetype": "text/x-python",
   "name": "python",
   "nbconvert_exporter": "python",
   "pygments_lexer": "ipython3",
   "version": "3.8.3"
  }
 },
 "nbformat": 4,
 "nbformat_minor": 4
}
